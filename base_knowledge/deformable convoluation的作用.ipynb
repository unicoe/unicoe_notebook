{
 "cells": [
  {
   "cell_type": "markdown",
   "metadata": {},
   "source": [
    "deformable convoluation的作用"
   ]
  },
  {
   "cell_type": "markdown",
   "metadata": {},
   "source": [
    "CNN由于固定的几何结构，导致其对几何形变的建模受到限制。为了加强CNN对形变的建模能力，文献”deformable convolution network的”提出了deformable convolution 和 deformable RoI pooling两种网络结构单元。deformable convolution 和 deformable RoI pooling都是基于通过学习一个额外的偏移（offset），使卷积核对输入feature map的采样的产生偏移，集中于感兴趣的目标区域。可以将deformable convolution ， deformable RoI pooling加入现有的CNN中，并可进行端到端训练\n",
    "\n",
    "https://blog.csdn.net/u011961856/article/details/77621531"
   ]
  }
 ],
 "metadata": {
  "kernelspec": {
   "display_name": "Python 3",
   "language": "python",
   "name": "python3"
  },
  "language_info": {
   "codemirror_mode": {
    "name": "ipython",
    "version": 3
   },
   "file_extension": ".py",
   "mimetype": "text/x-python",
   "name": "python",
   "nbconvert_exporter": "python",
   "pygments_lexer": "ipython3",
   "version": "3.6.3"
  }
 },
 "nbformat": 4,
 "nbformat_minor": 2
}
