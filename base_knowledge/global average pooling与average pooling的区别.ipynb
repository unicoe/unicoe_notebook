{
 "cells": [
  {
   "cell_type": "markdown",
   "metadata": {},
   "source": [
    "global average pooling与average pooling的区别就在于\"global\"上。global与local在字面上都是用来形容pooling窗口区域的。local是取feature map上的一个子区域求平均值，然后滑动子区域。global是对整个feature map求平均值。\n",
    "\n",
    "因此global的最后输出任然是１０个feature map,只不过每个feature map只剩下一个像素。这个像素就是求得的平均值。"
   ]
  }
 ],
 "metadata": {
  "kernelspec": {
   "display_name": "Python 3",
   "language": "python",
   "name": "python3"
  },
  "language_info": {
   "codemirror_mode": {
    "name": "ipython",
    "version": 3
   },
   "file_extension": ".py",
   "mimetype": "text/x-python",
   "name": "python",
   "nbconvert_exporter": "python",
   "pygments_lexer": "ipython3",
   "version": "3.6.3"
  }
 },
 "nbformat": 4,
 "nbformat_minor": 2
}
