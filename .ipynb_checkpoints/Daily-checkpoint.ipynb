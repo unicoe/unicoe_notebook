{
 "cells": [
  {
   "cell_type": "markdown",
   "metadata": {},
   "source": [
    "# ２０１８年０５月２７日２２：２６：５６\n",
    "\n",
    "今日总结：\n",
    "\n",
    "今天看了　single-shot object detection with enriched semantics 这篇论文，具体记录在paper目录下，论文中有一部分是完全借用另一篇论文的方法，那部分还需要再看一下另一篇论文，看懂。\n",
    "\n",
    "然后和harper的关系处理的很好。今天过的很愉快。自己的生活节奏要把握好，每天把应该做的做完之后，剩下的时间就可以留给自己，让自己过的更加充实。\n",
    "\n",
    "自律即自由！"
   ]
  },
  {
   "cell_type": "markdown",
   "metadata": {
    "collapsed": true
   },
   "source": [
    "# ２０１８年０５月２８日２１：１５：１４\n",
    "今天回顾了自己之前做的实验，好像发现了一些问题，但是对于之后怎么做，还是有疑惑，\n",
    "是通过改结构来提高检测器的效果，还是加模块来提升检测性能，或者是其他方法，现在还\n",
    "是没有理清楚。\n",
    "\n",
    "要花更多的时间来想这个问题，而不是每天苟且度日。\n",
    "\n",
    "还要努力提升自己的能力，让自己变强。　\n",
    "\n",
    "\n",
    "今天有点问题，想一下今天自己干了什么？\n"
   ]
  },
  {
   "cell_type": "markdown",
   "metadata": {},
   "source": [
    "# ２０１８年０５月２９日１５：１１：４５\n",
    "\n",
    "把今天上午没搞好的时间补回来，然后，从明天开始，早点起。寻求内心的平静\n",
    "\n"
   ]
  }
 ],
 "metadata": {
  "kernelspec": {
   "display_name": "Python 3",
   "language": "python",
   "name": "python3"
  },
  "language_info": {
   "codemirror_mode": {
    "name": "ipython",
    "version": 3
   },
   "file_extension": ".py",
   "mimetype": "text/x-python",
   "name": "python",
   "nbconvert_exporter": "python",
   "pygments_lexer": "ipython3",
   "version": "3.6.3"
  }
 },
 "nbformat": 4,
 "nbformat_minor": 2
}
