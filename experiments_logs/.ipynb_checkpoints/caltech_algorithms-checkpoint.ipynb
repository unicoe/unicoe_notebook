{
 "cells": [
  {
   "cell_type": "markdown",
   "metadata": {},
   "source": [
    "| Paper Name | 是否下载论文 | 是否阅读 | \n",
    "| -             |:-:|      -: | \n",
    "|chechkerboards+ |+| \n",
    "|MRFC+Semantic   |+|\n",
    "|LDCF++          |-|\n",
    "|DeepParts       |+|\n",
    "|CompACT-Deep    |-|\n",
    "|UDN+            |+|\n",
    "|MS-CNN          |+|\n",
    "|SA-FASTRCNN     |+|\n",
    "|RPN+BF          |+|+\n",
    "|F-DNN           |+|\n",
    "|PCN             |+|+\n",
    "|F-DNN+SS        |+|\n",
    "|SDS-RCNN        |+|\n",
    "\n",
    "\n",
    "|caltech上 现在较好的方法"
   ]
  },
  {
   "cell_type": "code",
   "execution_count": null,
   "metadata": {
    "collapsed": true
   },
   "outputs": [],
   "source": []
  }
 ],
 "metadata": {
  "kernelspec": {
   "display_name": "Python 3",
   "language": "python",
   "name": "python3"
  },
  "language_info": {
   "codemirror_mode": {
    "name": "ipython",
    "version": 3
   },
   "file_extension": ".py",
   "mimetype": "text/x-python",
   "name": "python",
   "nbconvert_exporter": "python",
   "pygments_lexer": "ipython3",
   "version": "3.6.3"
  }
 },
 "nbformat": 4,
 "nbformat_minor": 2
}
