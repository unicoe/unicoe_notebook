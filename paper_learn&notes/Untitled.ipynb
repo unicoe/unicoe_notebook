{
 "cells": [
  {
   "cell_type": "markdown",
   "metadata": {},
   "source": [
    "Feature Selective Networks for Object Detection"
   ]
  },
  {
   "cell_type": "markdown",
   "metadata": {},
   "source": [
    "图片１，对于每一个RoI，生成一个子区域注意力图和宽高比注意力图。在不同RoI中的同一位置，子区域注意力图给予不同的特征注意。\n",
    "对于不同的RoIs,宽高比注意力图也生成有明显区别的特征注意。"
   ]
  },
  {
   "cell_type": "markdown",
   "metadata": {},
   "source": [
    "图片３，分区域注意力生成(Region-wise attention Generation),根据RoI子区域划分和长宽比，分别生成子区域注意图和长宽比注意图。\n",
    "然后一定RoI,有选择地将子区域注意图和长宽比注意图结合起来，。通过将注意图映射与压缩后的RoI特征合并，生成最终的roi特征。"
   ]
  },
  {
   "cell_type": "markdown",
   "metadata": {},
   "source": [
    "图４，将f(i,j)一个C维的特征图使用shifted convs生成关于该(i,j)位置的sub-region attention bank.\n",
    "(这句话有问题：sub-region attention就是该位置处，与同在一个roi的其他位置的联系)\n",
    "通过使用shifted　convs来生成一个NsrCs-维的特征，该特征称为sub-region attention bank."
   ]
  },
  {
   "cell_type": "code",
   "execution_count": null,
   "metadata": {
    "collapsed": true
   },
   "outputs": [],
   "source": [
    "图５，将f(i,j)一个Ｃ维的特征图，使用1*1的卷积层来生个一个NarCs维的aspect ratio bank.\n",
    "该aspect ratio bank包含了对于该点的"
   ]
  }
 ],
 "metadata": {
  "kernelspec": {
   "display_name": "Python 3",
   "language": "python",
   "name": "python3"
  },
  "language_info": {
   "codemirror_mode": {
    "name": "ipython",
    "version": 3
   },
   "file_extension": ".py",
   "mimetype": "text/x-python",
   "name": "python",
   "nbconvert_exporter": "python",
   "pygments_lexer": "ipython3",
   "version": "3.6.3"
  }
 },
 "nbformat": 4,
 "nbformat_minor": 2
}
