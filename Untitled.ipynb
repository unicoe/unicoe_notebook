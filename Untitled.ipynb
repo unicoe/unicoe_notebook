{
 "cells": [
  {
   "cell_type": "markdown",
   "metadata": {},
   "source": [
    "２０１８年０５月２７日２２：２６：５６\n",
    "\n",
    "今日总结：\n",
    "\n",
    "今天看了　single-shot object detection with enriched semantics 这篇论文，具体记录在paper目录下，论文中有一部分是完全借用另一篇论文的方法，n"
   ]
  }
 ],
 "metadata": {
  "kernelspec": {
   "display_name": "Python 3",
   "language": "python",
   "name": "python3"
  },
  "language_info": {
   "codemirror_mode": {
    "name": "ipython",
    "version": 3
   },
   "file_extension": ".py",
   "mimetype": "text/x-python",
   "name": "python",
   "nbconvert_exporter": "python",
   "pygments_lexer": "ipython3",
   "version": "3.6.3"
  }
 },
 "nbformat": 4,
 "nbformat_minor": 2
}
