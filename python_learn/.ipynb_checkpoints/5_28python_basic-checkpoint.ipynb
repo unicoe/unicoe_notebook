{
 "cells": [
  {
   "cell_type": "code",
   "execution_count": 1,
   "metadata": {},
   "outputs": [
    {
     "name": "stdout",
     "output_type": "stream",
     "text": [
      "# packages in environment at /home/user/anaconda3:\n",
      "#\n",
      "_ipyw_jlab_nb_ext_conf    0.1.0            py36he11e457_0  \n",
      "absl-py                   0.2.1                     <pip>\n",
      "alabaster                 0.7.10           py36h306e16b_0  \n",
      "anaconda                  custom           py36hbbc8b67_0  \n",
      "anaconda-client           1.6.5            py36h19c0dcd_0  \n",
      "anaconda-project          0.8.0            py36h29abdf5_0  \n",
      "asn1crypto                0.22.0           py36h265ca7c_1  \n",
      "astor                     0.6.2                     <pip>\n",
      "astroid                   1.5.3            py36hbdb9df2_0  \n",
      "astropy                   2.0.2            py36ha51211e_4  \n",
      "babel                     2.5.0            py36h7d14adf_0  \n",
      "backports                 1.0              py36hfa02d7e_1  \n",
      "backports.shutil_get_terminal_size 1.0.0            py36hfea85ff_2  \n",
      "beautifulsoup4            4.6.0            py36h49b8c8c_1  \n",
      "bitarray                  0.8.1            py36h5834eb8_0  \n",
      "bkcharts                  0.2              py36h735825a_0  \n",
      "blaze                     0.11.3           py36h4e06776_0  \n",
      "bleach                    1.5.0                     <pip>\n",
      "bleach                    2.0.0            py36h688b259_0  \n",
      "bokeh                     0.12.10          py36hbb0e44a_0  \n",
      "boto                      2.48.0           py36h6e4cd66_1  \n",
      "bottleneck                1.2.1            py36haac1ea0_0  \n",
      "bzip2                     1.0.6                h0376d23_1  \n",
      "ca-certificates           2018.03.07                    0  \n",
      "cairo                     1.14.10              haa5651f_5  \n",
      "certifi                   2016.2.28                py36_0    https://mirrors.tuna.tsinghua.edu.cn/anaconda/pkgs/free\n",
      "cffi                      1.10.0           py36had8d393_1  \n",
      "chardet                   3.0.4            py36h0f667ec_1  \n",
      "click                     6.7              py36h5253387_0  \n",
      "cloudpickle               0.4.0            py36h30f8c20_0  \n",
      "clyent                    1.2.2            py36h7e57e65_1  \n",
      "colorama                  0.3.9            py36h489cec4_0  \n",
      "conda                     4.4.7                    py36_0  \n",
      "conda-build               3.0.27           py36h940a66d_0  \n",
      "conda-env                 2.6.0                h36134e3_1  \n",
      "conda-verify              2.0.0            py36h98955d8_0  \n",
      "contextlib2               0.5.5            py36h6c84a62_0  \n",
      "cryptography              2.0.3            py36ha225213_1  \n",
      "cudatoolkit               8.0                           3    https://mirrors.tuna.tsinghua.edu.cn/anaconda/pkgs/free\n",
      "curl                      7.55.1               hcb0b314_2  \n",
      "cycler                    0.10.0           py36h93f1223_0  \n",
      "cython                    0.26.1           py36h21c49d0_0  \n",
      "cytoolz                   0.8.2            py36h708bfd4_0  \n",
      "dask                      0.15.3           py36hdc2c8aa_0  \n",
      "dask-core                 0.15.3           py36h10e6167_0  \n",
      "datashape                 0.5.4            py36h3ad6b5c_0  \n",
      "dbus                      1.10.22              h3b5a359_0  \n",
      "decorator                 4.1.2            py36hd076ac8_0  \n",
      "distributed               1.19.1           py36h25f3894_0  \n",
      "docutils                  0.14             py36hb0f60f5_0  \n",
      "entrypoints               0.2.3            py36h1aec115_2  \n",
      "enum34                    1.1.6                     <pip>\n",
      "et_xmlfile                1.0.1            py36hd6bccc3_0  \n",
      "expat                     2.2.4                hc00ebd1_1  \n",
      "fastcache                 1.0.2            py36h5b0c431_0  \n",
      "ffmpeg                    3.4                  h7264315_0  \n",
      "filelock                  2.0.12           py36hacfa1f5_0  \n",
      "flask                     0.12.2           py36hb24657c_0  \n",
      "flask-cors                3.0.3            py36h2d857d3_0  \n",
      "fontconfig                2.12.4               h88586e7_1  \n",
      "freetype                  2.8                  h52ed37b_0  \n",
      "gast                      0.2.0                     <pip>\n",
      "get_terminal_size         1.0.0                haa9412d_0  \n",
      "gevent                    1.2.2            py36h2fe25dc_0  \n",
      "glib                      2.53.6               hc861d11_1  \n",
      "glob2                     0.5              py36h2c1b292_1  \n",
      "gmp                       6.1.2                hb3b607b_0  \n",
      "gmpy2                     2.0.8            py36h55090d7_1  \n",
      "graphite2                 1.3.10               hc526e54_0  \n",
      "greenlet                  0.4.12           py36h2d503a6_0  \n",
      "grpcio                    1.12.0                    <pip>\n",
      "gst-plugins-base          1.12.2               he3457e5_0  \n",
      "gstreamer                 1.12.2               h4f93127_0  \n",
      "h5py                      2.7.0            py36he81ebca_1  \n",
      "harfbuzz                  1.5.0                h2545bd6_0  \n",
      "hdf5                      1.10.1               hb0523eb_0  \n",
      "heapdict                  1.0.0            py36h79797d7_0  \n",
      "html5lib                  0.9999999                 <pip>\n",
      "html5lib                  0.999999999      py36h2cfc398_0  \n",
      "icu                       58.2                 h211956c_0  \n",
      "idna                      2.6              py36h82fb2a8_1  \n",
      "imageio                   2.2.0            py36he555465_0  \n",
      "imagesize                 0.7.1            py36h52d8127_0  \n",
      "imgaug                    0.2.5                     <pip>\n",
      "intel-openmp              2018.0.0             h15fc484_7  \n",
      "ipykernel                 4.6.1            py36hbf841aa_0  \n",
      "ipyparallel               6.1.1                     <pip>\n",
      "ipython                   6.1.0            py36hc72a948_1  \n",
      "ipython_genutils          0.2.0            py36hb52b0d5_0  \n",
      "ipywidgets                7.0.0            py36h7b55c3a_0  \n",
      "isort                     4.2.15           py36had401c0_0  \n",
      "itsdangerous              0.24             py36h93cc618_1  \n",
      "jasper                    1.900.1              hd497a04_4  \n",
      "jbig                      2.1                  hdba287a_0  \n",
      "jdcal                     1.3              py36h4c697fb_0  \n",
      "jedi                      0.10.2           py36h552def0_0  \n",
      "jinja2                    2.9.6            py36h489bce4_1  \n",
      "jpeg                      9b                   habf39ab_1  \n",
      "jsonschema                2.6.0            py36h006f8b5_0  \n",
      "jupyter                   1.0.0                    py36_3    https://mirrors.tuna.tsinghua.edu.cn/anaconda/pkgs/free\n",
      "jupyter_client            5.1.0            py36h614e9ea_0  \n",
      "jupyter_console           5.2.0            py36he59e554_1  \n",
      "jupyter_core              4.3.0            py36h357a921_0  \n",
      "jupyterlab                0.27.0           py36h86377d0_2  \n",
      "jupyterlab_launcher       0.4.0            py36h4d8058d_0  \n",
      "kiwisolver                1.0.1                     <pip>\n",
      "labelme                   2.13.2                    <pip>\n",
      "lazy-object-proxy         1.3.1            py36h10fcdad_0  \n",
      "libedit                   3.1                  heed3624_0  \n",
      "libffi                    3.2.1                h4deb6c0_3  \n",
      "libgcc                    5.2.0                         0    https://mirrors.tuna.tsinghua.edu.cn/anaconda/pkgs/free\n",
      "libgcc-ng                 7.2.0                h7cc24e2_2  \n",
      "libgfortran-ng            7.2.0                h9f7466a_2  \n",
      "libopus                   1.2.1                hb9ed12e_0  \n",
      "libpng                    1.6.32               hda9c8bc_2  \n",
      "libprotobuf               3.4.1                h5b8497f_0  \n",
      "libsodium                 1.0.13               h31c71d8_2  \n",
      "libssh2                   1.8.0                h8c220ad_2  \n",
      "libstdcxx-ng              7.2.0                h7a57d05_2  \n",
      "libtiff                   4.0.9                h28f6b97_0  \n",
      "libtool                   2.4.6                hd50d1a6_0  \n",
      "libvpx                    1.6.1                h888fd40_0  \n",
      "libxcb                    1.12                 h84ff03f_3  \n",
      "libxml2                   2.9.4                h6b072ca_5  \n",
      "libxslt                   1.1.29               hcf9102b_5  \n",
      "llvmlite                  0.20.0                   py36_0  \n",
      "locket                    0.2.0            py36h787c0ad_1  \n",
      "lxml                      4.1.0            py36h5b66e50_0  \n",
      "lzo                       2.10                 h1bfc0ba_1  \n",
      "Markdown                  2.6.11                    <pip>\n",
      "markupsafe                1.0              py36hd9260cd_1  \n",
      "matplotlib                2.2.2                     <pip>\n",
      "mccabe                    0.6.1            py36h5ad9710_1  \n",
      "mistune                   0.7.4            py36hbab8784_0  \n",
      "mkl                       2018.0.0             hb491cac_4  \n",
      "mkl-service               1.1.2            py36h17a0993_4  \n",
      "mpc                       1.0.3                hf803216_4  \n",
      "mpfr                      3.1.5                h12ff648_1  \n",
      "mpmath                    0.19             py36h8cc018b_2  \n",
      "msgpack-python            0.4.8            py36hec4c5d1_0  \n",
      "multipledispatch          0.4.9            py36h41da3fb_0  \n",
      "nbconvert                 5.3.1            py36hb41ffb7_0  \n",
      "nbformat                  4.4.0            py36h31c9010_0  \n",
      "ncurses                   6.0                  h06874d7_1  \n",
      "networkx                  2.0              py36h7e96fb8_0  \n",
      "ninja                     1.7.2                         0    https://mirrors.tuna.tsinghua.edu.cn/anaconda/pkgs/free\n",
      "nltk                      3.2.4            py36h1a0979f_0  \n",
      "nose                      1.3.7            py36hcdf7029_2  \n",
      "notebook                  5.0.0                    py36_0    https://mirrors.tuna.tsinghua.edu.cn/anaconda/pkgs/free\n",
      "notedown                  1.5.1                     <pip>\n",
      "numba                     0.35.0             np113py36_10  \n",
      "numexpr                   2.6.2            py36hdd3393f_1  \n",
      "numpy                     1.13.3           py36ha12f23b_0  \n",
      "numpydoc                  0.7.0            py36h18f165f_0  \n",
      "odo                       0.5.1            py36h90ed295_0  \n",
      "olefile                   0.44             py36h79f9f78_0  \n",
      "opencv                    3.3.1            py36h6cbbc71_1  \n",
      "opencv-python             3.4.0.14                  <pip>\n",
      "openpyxl                  2.4.8            py36h41dd2a8_1  \n",
      "openssl                   1.0.2l                        0    https://mirrors.tuna.tsinghua.edu.cn/anaconda/pkgs/free\n",
      "packaging                 16.8             py36ha668100_1  \n",
      "pandas                    0.20.3           py36h842e28d_2  \n",
      "pandoc                    1.19.2.1             hea2e7c5_1  \n",
      "pandoc-attributes         0.1.7                     <pip>\n",
      "pandocfilters             1.4.2            py36ha6701b7_1  \n",
      "pango                     1.40.11              h8191d47_0  \n",
      "partd                     0.3.8            py36h36fd896_0  \n",
      "patchelf                  0.9                  hf79760b_2  \n",
      "path.py                   10.3.1           py36he0c6f6d_0  \n",
      "pathlib2                  2.3.0            py36h49efa8e_0  \n",
      "patsy                     0.4.1            py36ha3be15e_0  \n",
      "pcre                      8.41                 hc71a17e_0  \n",
      "pep8                      1.7.0            py36h26ade29_0  \n",
      "pexpect                   4.2.1            py36h3b9d41b_0  \n",
      "pickleshare               0.7.4            py36h63277f8_0  \n",
      "pillow                    4.2.1            py36h9119f52_0  \n",
      "pip                       9.0.1            py36h8ec8b28_3  \n",
      "pixman                    0.34.0               h83dc358_2  \n",
      "pkginfo                   1.4.1            py36h215d178_1  \n",
      "ply                       3.10             py36hed35086_0  \n",
      "prompt_toolkit            1.0.15           py36h17d85b1_0  \n",
      "protobuf                  3.5.2.post1               <pip>\n",
      "psutil                    5.4.0            py36h84c53db_0  \n",
      "ptyprocess                0.5.2            py36h69acd42_0  \n",
      "py                        1.4.34           py36h0712aa3_1  \n",
      "pycodestyle               2.3.1            py36hf609f19_0  \n",
      "pycosat                   0.6.3            py36h0a5515d_0  \n",
      "pycparser                 2.18             py36hf9f622e_1  \n",
      "pycrypto                  2.6.1            py36h6998063_1  \n",
      "pycurl                    7.43.0           py36h5e72054_3  \n",
      "pyflakes                  1.6.0            py36h7bd6a15_0  \n",
      "pygments                  2.2.0            py36h0d3125c_0  \n",
      "pylint                    1.7.4            py36hb9d4533_0  \n",
      "pyodbc                    4.0.17           py36h999153c_0  \n",
      "pyopenssl                 17.2.0           py36h5cc804b_0  \n",
      "pyparsing                 2.2.0            py36hee85983_1  \n",
      "pyqt                      5.6.0                    py36_2    https://mirrors.tuna.tsinghua.edu.cn/anaconda/pkgs/free\n",
      "PyQt5                     5.10.1                    <pip>\n",
      "pysocks                   1.6.7            py36hd97a5b1_1  \n",
      "pytables                  3.4.2            py36h3b5282a_2  \n",
      "pytest                    3.2.1            py36h11ad3bb_1  \n",
      "python                    3.6.3                hc9025b9_1  \n",
      "python-dateutil           2.6.1            py36h88d3b88_1  \n",
      "pytorch                   0.4.0           py36_cuda8.0.61_cudnn7.1.2_1    pytorch\n",
      "pytz                      2017.2           py36hc2ccc2a_1  \n",
      "pywavelets                0.5.2            py36he602eb0_0  \n",
      "pyyaml                    3.12             py36hafb9ca4_1  \n",
      "pyzmq                     16.0.2           py36h3b0cf96_2  \n",
      "qt                        5.6.2               h974d657_12  \n",
      "qtawesome                 0.4.4            py36h609ed8c_0  \n",
      "qtconsole                 4.3.1                    py36_0    https://mirrors.tuna.tsinghua.edu.cn/anaconda/pkgs/free\n",
      "qtpy                      1.3.1            py36h3691cc8_0  \n",
      "readline                  7.0                  hac23ff0_3  \n",
      "requests                  2.14.2                   py36_0    https://mirrors.tuna.tsinghua.edu.cn/anaconda/pkgs/free\n",
      "rope                      0.10.5           py36h1f8c17e_0  \n",
      "ruamel_yaml               0.11.14          py36ha2fb22d_2  \n",
      "scikit-image              0.13.1                    <pip>\n",
      "scikit-learn              0.19.1           py36h7aa7ec6_0  \n",
      "scipy                     0.19.1           py36h9976243_3  \n",
      "setuptools                36.5.0           py36he42e2e1_0  \n",
      "simplegeneric             0.8.1            py36h2cb9092_0  \n",
      "singledispatch            3.4.0.3          py36h7a266c3_0  \n",
      "sip                       4.18.1           py36h51ed4ed_2  \n",
      "sip                       4.19.8                    <pip>\n",
      "six                       1.11.0           py36h372c433_1  \n",
      "snowballstemmer           1.2.1            py36h6febd40_0  \n",
      "sortedcollections         0.5.3            py36h3c761f9_0  \n",
      "sortedcontainers          1.5.7            py36hdf89491_0  \n",
      "sphinx                    1.6.3            py36he5f0bdb_0  \n",
      "sphinxcontrib             1.0              py36h6d0f590_1  \n",
      "sphinxcontrib-websupport  1.0.1            py36hb5cb234_1  \n",
      "sqlalchemy                1.1.13           py36hfb5efd7_0  \n",
      "sqlite                    3.20.1               h6d8b0f3_1  \n",
      "statsmodels               0.8.0            py36h8533d0b_0  \n",
      "sympy                     1.1.1            py36hc6d1c1c_0  \n",
      "tblib                     1.3.2            py36h34cf8b6_0  \n",
      "tensorboard               1.8.0                     <pip>\n",
      "tensorflow-gpu            1.4.0                     <pip>\n",
      "tensorflow-tensorboard    0.4.0                     <pip>\n",
      "termcolor                 1.1.0                     <pip>\n",
      "terminado                 0.6              py36ha25a19f_0  \n",
      "testpath                  0.3.1            py36h8cadb63_0  \n",
      "tk                        8.6.7                h5979e9b_1  \n",
      "toolz                     0.8.2            py36h81f2dff_0  \n",
      "torchvision               0.2.1                    py36_1    pytorch\n",
      "tornado                   4.5.2            py36h1283b2a_0  \n",
      "traitlets                 4.3.2            py36h674d592_0  \n",
      "typing                    3.6.2            py36h7da032a_0  \n",
      "unicodecsv                0.14.1           py36ha668878_0  \n",
      "unixodbc                  2.3.4                hc36303a_1  \n",
      "urllib3                   1.22             py36hbe7ace6_0  \n",
      "wcwidth                   0.1.7            py36hdf4376a_0  \n",
      "webencodings              0.5.1            py36h800622e_1  \n",
      "werkzeug                  0.12.2           py36hc703753_0  \n",
      "wheel                     0.29.0           py36he7f4e38_1  \n",
      "widgetsnbextension        3.0.2            py36hd01bb71_1  \n",
      "wrapt                     1.10.11          py36h28b7045_0  \n",
      "xlrd                      1.1.0            py36h1db9f0c_1  \n",
      "xlsxwriter                1.0.2            py36h3de1aca_0  \n",
      "xlwt                      1.3.0            py36h7b00a1f_0  \n",
      "xz                        5.2.3                h2bcbf08_1  \n",
      "yaml                      0.1.7                h96e3832_1  \n",
      "zeromq                    4.2.2                hb0b69da_1  \n",
      "zict                      0.1.3            py36h3a3bf81_0  \n",
      "zlib                      1.2.11               hfbfcf68_1  \n"
     ]
    }
   ],
   "source": [
    "!conda list"
   ]
  },
  {
   "cell_type": "code",
   "execution_count": 2,
   "metadata": {},
   "outputs": [
    {
     "name": "stdout",
     "output_type": "stream",
     "text": [
      "\r\n",
      "     active environment : None\r\n",
      "       user config file : /home/user/.condarc\r\n",
      " populated config files : /home/user/.condarc\r\n",
      "          conda version : 4.4.7\r\n",
      "    conda-build version : 3.0.27\r\n",
      "         python version : 3.6.3.final.0\r\n",
      "       base environment : /home/user/anaconda3  (writable)\r\n",
      "           channel URLs : https://mirrors.tuna.tsinghua.edu.cn/anaconda/pkgs/free/linux-64\r\n",
      "                          https://mirrors.tuna.tsinghua.edu.cn/anaconda/pkgs/free/noarch\r\n",
      "                          https://repo.continuum.io/pkgs/main/linux-64\r\n",
      "                          https://repo.continuum.io/pkgs/main/noarch\r\n",
      "                          https://repo.continuum.io/pkgs/free/linux-64\r\n",
      "                          https://repo.continuum.io/pkgs/free/noarch\r\n",
      "                          https://repo.continuum.io/pkgs/r/linux-64\r\n",
      "                          https://repo.continuum.io/pkgs/r/noarch\r\n",
      "                          https://repo.continuum.io/pkgs/pro/linux-64\r\n",
      "                          https://repo.continuum.io/pkgs/pro/noarch\r\n",
      "          package cache : /home/user/anaconda3/pkgs\r\n",
      "                          /home/user/.conda/pkgs\r\n",
      "       envs directories : /home/user/anaconda3/envs\r\n",
      "                          /home/user/.conda/envs\r\n",
      "               platform : linux-64\r\n",
      "             user-agent : conda/4.4.7 requests/2.14.2 CPython/3.6.3 Linux/4.10.0-38-generic ubuntu/16.04 glibc/2.23\r\n",
      "                UID:GID : 1000:1000\r\n",
      "             netrc file : None\r\n",
      "           offline mode : False\r\n",
      "\r\n"
     ]
    }
   ],
   "source": [
    "!conda info"
   ]
  },
  {
   "cell_type": "code",
   "execution_count": 5,
   "metadata": {},
   "outputs": [
    {
     "name": "stdout",
     "output_type": "stream",
     "text": [
      "[100, 11, 12, 13, 14]\n"
     ]
    }
   ],
   "source": [
    "a=[10,11,12,13,14]\n",
    "a[0] = 100\n",
    "print(a)"
   ]
  },
  {
   "cell_type": "code",
   "execution_count": 6,
   "metadata": {
    "collapsed": true
   },
   "outputs": [],
   "source": [
    "a[1:3] = [1,1,1,1,1,1,1]"
   ]
  },
  {
   "cell_type": "code",
   "execution_count": 8,
   "metadata": {},
   "outputs": [
    {
     "name": "stdout",
     "output_type": "stream",
     "text": [
      "[100, 1, 1, 1, 1, 1, 1, 1, 13, 14]\n"
     ]
    }
   ],
   "source": [
    "print(a)"
   ]
  },
  {
   "cell_type": "code",
   "execution_count": 12,
   "metadata": {},
   "outputs": [
    {
     "name": "stdout",
     "output_type": "stream",
     "text": [
      "[100, 1, 13, 14]\n",
      "[100, 14]\n"
     ]
    }
   ],
   "source": [
    "a[1:3] = []\n",
    "print(a)\n",
    "a[1:3] = []\n",
    "print(a)"
   ]
  },
  {
   "cell_type": "code",
   "execution_count": 10,
   "metadata": {},
   "outputs": [
    {
     "name": "stdout",
     "output_type": "stream",
     "text": [
      "[100, 1, 1, 1, 1, 1, 13, 14]\n"
     ]
    }
   ],
   "source": [
    "print(a)"
   ]
  },
  {
   "cell_type": "code",
   "execution_count": 16,
   "metadata": {},
   "outputs": [
    {
     "name": "stdout",
     "output_type": "stream",
     "text": [
      "[1, 2, 2, 4]\n"
     ]
    }
   ],
   "source": [
    "a = [1,2,3,4]\n",
    "a[::2] = [1,2]\n",
    "print(a)"
   ]
  },
  {
   "cell_type": "code",
   "execution_count": 21,
   "metadata": {},
   "outputs": [
    {
     "name": "stdout",
     "output_type": "stream",
     "text": [
      "[]\n"
     ]
    }
   ],
   "source": [
    "a = [102, 1 ,1 ,1 ,1 ]\n",
    "\n",
    "del a[::1]\n",
    "\n",
    "print(a)"
   ]
  },
  {
   "cell_type": "code",
   "execution_count": 23,
   "metadata": {},
   "outputs": [
    {
     "name": "stdout",
     "output_type": "stream",
     "text": [
      "True\n",
      "False\n"
     ]
    }
   ],
   "source": [
    "a = [10,11,12,13,14]\n",
    "print(10 in a)\n",
    "print(10 not in a)"
   ]
  },
  {
   "cell_type": "code",
   "execution_count": 24,
   "metadata": {},
   "outputs": [
    {
     "data": {
      "text/plain": [
       "1"
      ]
     },
     "execution_count": 24,
     "metadata": {},
     "output_type": "execute_result"
    }
   ],
   "source": [
    "a.count(11)"
   ]
  },
  {
   "cell_type": "code",
   "execution_count": 25,
   "metadata": {},
   "outputs": [
    {
     "data": {
      "text/plain": [
       "2"
      ]
     },
     "execution_count": 25,
     "metadata": {},
     "output_type": "execute_result"
    }
   ],
   "source": [
    "a.index(12)"
   ]
  },
  {
   "cell_type": "code",
   "execution_count": 26,
   "metadata": {
    "collapsed": true
   },
   "outputs": [],
   "source": [
    "a.extend([3,3,2])\n",
    "print(a)"
   ]
  },
  {
   "cell_type": "code",
   "execution_count": 35,
   "metadata": {},
   "outputs": [
    {
     "name": "stdout",
     "output_type": "stream",
     "text": [
      "[2, 3, 'unicoe', 3, 10, 11, 12, 13, 14]\n"
     ]
    }
   ],
   "source": [
    "a.insert(2,\"unicoe\")\n",
    "print(a)"
   ]
  },
  {
   "cell_type": "code",
   "execution_count": 29,
   "metadata": {},
   "outputs": [
    {
     "data": {
      "text/plain": [
       "'unicoe'"
      ]
     },
     "execution_count": 29,
     "metadata": {},
     "output_type": "execute_result"
    }
   ],
   "source": [
    "a.pop(2)"
   ]
  },
  {
   "cell_type": "code",
   "execution_count": 34,
   "metadata": {},
   "outputs": [
    {
     "name": "stdout",
     "output_type": "stream",
     "text": [
      "[2, 3, 3, 10, 11, 12, 13, 14]\n",
      "[2, 3, 3, 10, 11, 12, 13, 14]\n"
     ]
    }
   ],
   "source": [
    "#a.sort()\n",
    "print(a)\n",
    "\n",
    "b = sorted(a)\n",
    "print(b)"
   ]
  },
  {
   "cell_type": "code",
   "execution_count": 36,
   "metadata": {},
   "outputs": [
    {
     "name": "stdout",
     "output_type": "stream",
     "text": [
      "[14, 13, 12, 11, 10, 3, 3, 2]\n"
     ]
    }
   ],
   "source": [
    "b.reverse()\n",
    "print(b)"
   ]
  },
  {
   "cell_type": "code",
   "execution_count": 37,
   "metadata": {},
   "outputs": [
    {
     "name": "stdout",
     "output_type": "stream",
     "text": [
      "[2, 3, 3, 10, 11, 12, 13, 14]\n"
     ]
    }
   ],
   "source": [
    "c = b[::-1]\n",
    "print(c)"
   ]
  },
  {
   "cell_type": "code",
   "execution_count": 39,
   "metadata": {
    "collapsed": true
   },
   "outputs": [],
   "source": [
    "a.sort??"
   ]
  },
  {
   "cell_type": "markdown",
   "metadata": {},
   "source": [
    "数据类型分类：\n",
    "\n",
    "|可变数据类型|不可变数据类型|\n",
    "|--|--|\n",
    "|`list`, `dictionary`, `set`, `numpy array`, `user defined objects`|`integer`, `float`, `long`, `complex`, `string`, `tuple`, `frozenset`"
   ]
  },
  {
   "cell_type": "code",
   "execution_count": 42,
   "metadata": {},
   "outputs": [
    {
     "name": "stdout",
     "output_type": "stream",
     "text": [
      "94698745810176\n",
      "94698745810176\n"
     ]
    }
   ],
   "source": [
    "x=2\n",
    "y=2\n",
    "print(id(x))\n",
    "print(id(y))\n"
   ]
  },
  {
   "cell_type": "code",
   "execution_count": 45,
   "metadata": {},
   "outputs": [
    {
     "name": "stdout",
     "output_type": "stream",
     "text": [
      "140413535690832\n",
      "140413535690864\n",
      "140413535690896\n",
      "140413553546760\n"
     ]
    }
   ],
   "source": [
    "x=[500,501,502]\n",
    "\n",
    "for i in x:\n",
    "    print(id(i))\n",
    "print(id(x))"
   ]
  },
  {
   "cell_type": "code",
   "execution_count": 46,
   "metadata": {},
   "outputs": [
    {
     "name": "stdout",
     "output_type": "stream",
     "text": [
      "140413553546760\n"
     ]
    }
   ],
   "source": [
    "y = x\n",
    "print(id(y))"
   ]
  },
  {
   "cell_type": "code",
   "execution_count": 47,
   "metadata": {},
   "outputs": [
    {
     "data": {
      "text/plain": [
       "True"
      ]
     },
     "execution_count": 47,
     "metadata": {},
     "output_type": "execute_result"
    }
   ],
   "source": [
    "x is y"
   ]
  },
  {
   "cell_type": "code",
   "execution_count": 48,
   "metadata": {},
   "outputs": [
    {
     "name": "stdout",
     "output_type": "stream",
     "text": [
      "140413553546760\n"
     ]
    }
   ],
   "source": [
    "y[1] = 600\n",
    "print(id(y))"
   ]
  },
  {
   "cell_type": "code",
   "execution_count": 49,
   "metadata": {},
   "outputs": [
    {
     "name": "stdout",
     "output_type": "stream",
     "text": [
      "140413535691152\n",
      "140413535691152\n"
     ]
    }
   ],
   "source": [
    "print(id(x[1]))\n",
    "print(id(y[1]))"
   ]
  },
  {
   "cell_type": "code",
   "execution_count": 50,
   "metadata": {
    "collapsed": true
   },
   "outputs": [],
   "source": [
    "y = [100,200]"
   ]
  },
  {
   "cell_type": "code",
   "execution_count": 51,
   "metadata": {},
   "outputs": [
    {
     "name": "stdout",
     "output_type": "stream",
     "text": [
      "140413553546760\n",
      "140413535659272\n"
     ]
    }
   ],
   "source": [
    "print(id(x))\n",
    "print(id(y))"
   ]
  },
  {
   "cell_type": "code",
   "execution_count": 54,
   "metadata": {},
   "outputs": [
    {
     "name": "stdout",
     "output_type": "stream",
     "text": [
      "68\n"
     ]
    }
   ],
   "source": [
    "list = sum([x*3+2 for x in range(1,10) if x%2==0])\n",
    "print(list)"
   ]
  },
  {
   "cell_type": "code",
   "execution_count": 58,
   "metadata": {},
   "outputs": [
    {
     "name": "stdout",
     "output_type": "stream",
     "text": [
      "<map object at 0x7fb492ea9d30>\n"
     ]
    }
   ],
   "source": [
    "def sqr(x):\n",
    "    return x+2\n",
    "\n",
    "a = [1,2,3]\n",
    "b=map(sqr, a)\n",
    "print(b)"
   ]
  },
  {
   "cell_type": "code",
   "execution_count": null,
   "metadata": {
    "collapsed": true
   },
   "outputs": [],
   "source": []
  }
 ],
 "metadata": {
  "kernelspec": {
   "display_name": "Python 3",
   "language": "python",
   "name": "python3"
  },
  "language_info": {
   "codemirror_mode": {
    "name": "ipython",
    "version": 3
   },
   "file_extension": ".py",
   "mimetype": "text/x-python",
   "name": "python",
   "nbconvert_exporter": "python",
   "pygments_lexer": "ipython3",
   "version": "3.6.3"
  }
 },
 "nbformat": 4,
 "nbformat_minor": 2
}
